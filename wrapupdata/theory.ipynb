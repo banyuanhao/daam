{
 "cells": [
  {
   "cell_type": "code",
   "execution_count": 13,
   "metadata": {},
   "outputs": [
    {
     "name": "stdout",
     "output_type": "stream",
     "text": [
      "tensor(0.0215)\n",
      "tensor(0.0070)\n"
     ]
    }
   ],
   "source": [
    "import torch\n",
    "\n",
    "\n",
    "Z  = torch.randn(100,100)\n",
    "ZTZ = torch.mm(Z.t(),Z)\n",
    "\n",
    "X1 = torch.randn(100,2)\n",
    "X1TX1 = torch.mm(X1,X1.t())\n",
    "\n",
    "X2 = torch.randn(100,2)\n",
    "X2TX2 = torch.mm(X2,X2.t())\n",
    "\n",
    "L = torch.randn(100,100)\n",
    "\n",
    "ZX2 = torch.mm(ZTZ,X2TX2)\n",
    "ZX1 = torch.mm(ZTZ,X1TX1)\n",
    "\n",
    "ZX2 = ZX2.view(-1)\n",
    "ZX1 = ZX1.view(-1)\n",
    "# cos simalirity\n",
    "cos = torch.dot(ZX1,ZX2)/(torch.norm(ZX1)*torch.norm(ZX2))\n",
    "print(cos)\n",
    "\n",
    "Z1 = torch.mm(ZTZ,X1TX1)\n",
    "Z1 = torch.mm(Z1,L)\n",
    "Z1 = torch.mm(Z1,X2TX2)\n",
    "\n",
    "Z2 = torch.mm(ZTZ,X2TX2)\n",
    "Z2 = torch.mm(Z2,L)\n",
    "Z2 = torch.mm(Z2,X1TX1)\n",
    "Z1 = Z1.view(-1)\n",
    "Z2 = Z2.view(-1)\n",
    "# cos simalirity\n",
    "cos = torch.dot(Z1,Z2)/(torch.norm(Z1)*torch.norm(Z2))\n",
    "print(cos)\n",
    "\n"
   ]
  }
 ],
 "metadata": {
  "kernelspec": {
   "display_name": "ldm",
   "language": "python",
   "name": "python3"
  },
  "language_info": {
   "codemirror_mode": {
    "name": "ipython",
    "version": 3
   },
   "file_extension": ".py",
   "mimetype": "text/x-python",
   "name": "python",
   "nbconvert_exporter": "python",
   "pygments_lexer": "ipython3",
   "version": "3.8.5"
  }
 },
 "nbformat": 4,
 "nbformat_minor": 2
}
